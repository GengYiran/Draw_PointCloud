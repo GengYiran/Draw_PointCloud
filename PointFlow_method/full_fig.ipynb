{
 "cells": [
  {
   "cell_type": "code",
   "execution_count": 54,
   "metadata": {},
   "outputs": [],
   "source": [
    "# Global variables\n",
    "\n",
    "cabinet_id = [1,5,8,9,10,20]\n",
    "path = '/home/boshi/Documents/Science/E2EAff/logs/two_franka_chair_pc_partial_cp_map/ppo_pc_pure/ppo_pc_pure_new5_cp_push_seed-1/map01_3000.pt'\n",
    "output_path = \"images/chair_cp/map_3000\"\n",
    "map_dim = [3,4]\n",
    "gripper_dim = [5,6] # filter out points belong to grippers\n",
    "\n",
    "sensor_sep = 60     # the angle between two adjacent sensors\n",
    "sensor_count = 1    # how many views to take pictures\n",
    "radius = 2.0          # view distance form center\n",
    "theta = 60         # view angle from upright axis\n",
    "sensor_width = 512\n",
    "sensor_height = 341\n",
    "\n",
    "spp = 256          # render quality"
   ]
  },
  {
   "cell_type": "code",
   "execution_count": 55,
   "metadata": {},
   "outputs": [],
   "source": [
    "# Create raw xml file\n",
    "\n",
    "import numpy as np\n",
    "import torch\n",
    "import math\n",
    "\n",
    "def standardize_bbox(pcl):\n",
    "    mins = np.amin(pcl, axis=0, keepdims=True)\n",
    "    maxs = np.amax(pcl, axis=0, keepdims=True)\n",
    "    # maxs[:, 3:] = np.maximum(maxs[:, 3:], np.ones_like(maxs[:, 3:])*0.1)\n",
    "    center = ( mins + maxs ) / 2.\n",
    "    scale_xyz = np.amax(maxs-mins, axis=(0,1))\n",
    "    scale_color = maxs-mins\n",
    "    pcl[:, :3] = (pcl[:, :3] - center[:, :3]) / (scale_xyz + 1e-8)\n",
    "    pcl[:, 3:] = (pcl[:, 3:] - center[:, 3:]) / (scale_color[:, 3:] + 1e-8)\n",
    "    # print(\"Center: {}, Scale: {}\".format(center, scale))\n",
    "    # pcl[:, 2] += 0.2\n",
    "    return pcl\n",
    "\n",
    "xml_head = \\\n",
    "\"\"\"\n",
    "<scene version=\"0.6.0\">\n",
    "    <integrator type=\"path\">\n",
    "        <integer name=\"maxDepth\" value=\"-1\"/>\n",
    "    </integrator>\n",
    "    <sensor type=\"perspective\">\n",
    "        <float name=\"farClip\" value=\"100\"/>\n",
    "        <float name=\"nearClip\" value=\"0.1\"/>\n",
    "        <transform name=\"toWorld\">\n",
    "            <lookat origin=\"3,3,3\" target=\"0,0,0\" up=\"0,0,1\"/>\n",
    "        </transform>\n",
    "        <float name=\"fov\" value=\"25\"/>\n",
    "        \n",
    "        <sampler type=\"ldsampler\">\n",
    "            <integer name=\"sampleCount\" value=\"256\"/>\n",
    "        </sampler>\n",
    "        <film type=\"ldrfilm\">\n",
    "            <integer name=\"width\" value=\"1600\"/>\n",
    "            <integer name=\"height\" value=\"1200\"/>\n",
    "            <rfilter type=\"gaussian\"/>\n",
    "            <boolean name=\"banner\" value=\"false\"/>\n",
    "        </film>\n",
    "    </sensor>\n",
    "    \n",
    "    <bsdf type=\"roughplastic\" id=\"surfaceMaterial\">\n",
    "        <string name=\"distribution\" value=\"ggx\"/>\n",
    "        <float name=\"alpha\" value=\"0.05\"/>\n",
    "        <float name=\"intIOR\" value=\"1.46\"/>\n",
    "        <rgb name=\"diffuseReflectance\" value=\"1,1,1\"/> <!-- default 0.5 -->\n",
    "    </bsdf>\n",
    "    \n",
    "\"\"\"\n",
    "\n",
    "xml_ball_segment = \\\n",
    "\"\"\"\n",
    "    <shape type=\"sphere\">\n",
    "        <float name=\"radius\" value=\"0.018\"/>\n",
    "        <transform name=\"toWorld\">\n",
    "            <translate x=\"{}\" y=\"{}\" z=\"{}\"/>\n",
    "        </transform>\n",
    "        <bsdf type=\"diffuse\">\n",
    "            <rgb name=\"reflectance\" value=\"{},{},{}\"/>\n",
    "        </bsdf>\n",
    "    </shape>\n",
    "\"\"\"\n",
    "\n",
    "xml_tail = \\\n",
    "\"\"\"\n",
    "    <shape type=\"rectangle\">\n",
    "        <ref name=\"bsdf\" id=\"surfaceMaterial\"/>\n",
    "        <transform name=\"toWorld\">\n",
    "            <scale x=\"10\" y=\"10\" z=\"1\"/>\n",
    "            <translate x=\"0\" y=\"0\" z=\"-0.5\"/>\n",
    "        </transform>\n",
    "    </shape>\n",
    "    \n",
    "    <shape type=\"rectangle\">\n",
    "        <transform name=\"toWorld\">\n",
    "            <scale x=\"10\" y=\"10\" z=\"1\"/>\n",
    "            <lookat origin=\"-4,4,20\" target=\"0,0,0\" up=\"0,0,1\"/>\n",
    "        </transform>\n",
    "        <emitter type=\"area\">\n",
    "            <rgb name=\"radiance\" value=\"6,6,6\"/>\n",
    "        </emitter>\n",
    "    </shape>\n",
    "</scene>\n",
    "\"\"\"\n",
    "\n",
    "\n",
    "def colormap(x,y,z):\n",
    "    vec = np.array([x,y,z])\n",
    "    vec = np.clip(vec, 0.001,1.0)\n",
    "    return [vec[0], vec[1], vec[2]]\n",
    "\n",
    "if path[-2:] == 'pt':\n",
    "    all_pcl = np.array(torch.load(path, map_location=\"cpu\").cpu())\n",
    "else:\n",
    "    all_pcl = np.load(path)\n",
    "\n",
    "if isinstance(map_dim, list) and len(map_dim) == 1 :\n",
    "    map_dim = map_dim[0]\n",
    "\n",
    "for instance in range(all_pcl.shape[0]):\n",
    "\n",
    "    xml_segments = [xml_head]\n",
    "\n",
    "    if isinstance(map_dim, int) and map_dim != -1 :\n",
    "        pcl = all_pcl[instance]\n",
    "        pcl = standardize_bbox(pcl)\n",
    "        color_ = pcl[:, map_dim]\n",
    "        mx = -100.0\n",
    "        mn = 100.0\n",
    "        for i in range(pcl.shape[0]):\n",
    "            color_[i] = max(color_[i], 0.0)\n",
    "            value = color_[i]\n",
    "            mx = max(mx, float(value))\n",
    "            mn = min(mn, float(value))\n",
    "        for i in range(pcl.shape[0]):\n",
    "            value = (color_[i]-mn) / (mx-mn+1e-8)\n",
    "            if value<0.5:\n",
    "                r = 0.58\n",
    "                g = 0.80 - 0.80*value\n",
    "                b = 1.00 - 1.0*value\n",
    "            else:\n",
    "                r = 0.58 + 0.84*(value-0.5)\n",
    "                g = 0.80 - 0.80*value\n",
    "                b = 1.00 - 1.0*value\n",
    "            color = colormap(r, g, b)\n",
    "\n",
    "            is_gripper = False\n",
    "            for j in gripper_dim :\n",
    "                if pcl[i,j] > 0.1:\n",
    "                    is_gripper = True\n",
    "                    break\n",
    "            if is_gripper == False :\n",
    "                xml_segments.append(xml_ball_segment.format(pcl[i,0],pcl[i,1],pcl[i,2], *color))\n",
    "        xml_segments.append(xml_tail)\n",
    "\n",
    "        xml_content = str.join('', xml_segments)\n",
    "\n",
    "        with open('map/try_map{}.xml'.format(instance), 'w') as f:\n",
    "            f.write(xml_content)\n",
    "    \n",
    "    elif isinstance(map_dim, list) and len(map_dim) == 2:\n",
    "        pcl = all_pcl[instance]\n",
    "        pcl = standardize_bbox(pcl)\n",
    "        color_0 = pcl[:, map_dim[0]]\n",
    "        color_1 = pcl[:, map_dim[1]]\n",
    "        mx_0 = -100.0\n",
    "        mn_0 = 100.0\n",
    "        mx_1 = -100.0\n",
    "        mn_1 = 100.0\n",
    "        for i in range(pcl.shape[0]):\n",
    "            color_0[i] = max(color_0[i], 0.0)\n",
    "            value_0 = color_0[i]\n",
    "            mx_0 = max(mx_0, float(value_0))\n",
    "            mn_0 = min(mn_0, float(value_0))\n",
    "            color_1[i] = max(color_1[i], 0.0)\n",
    "            value_1 = color_1[i]\n",
    "            mx_1 = max(mx_1, float(value_1))\n",
    "            mn_1 = min(mn_1, float(value_1))\n",
    "        for i in range(pcl.shape[0]):\n",
    "            value_0 = (color_0[i]-mn_0) / (mx_0-mn_0+1e-8)\n",
    "            value_1 = (color_1[i]-mn_1) / (mx_1-mn_1+1e-8)\n",
    "            r = 0.58 + 0.42*value_0 - 0.42*value_1\n",
    "            g = 0.80 - 0.80*value_0 - 0.80*value_1\n",
    "            b = 1.0 - 1.0*value_0 + 1.0*value_1\n",
    "            color = colormap(r, g, b)\n",
    "\n",
    "            is_gripper = False\n",
    "            for j in gripper_dim :\n",
    "                if pcl[i,j] > 0.1:\n",
    "                    is_gripper = True\n",
    "                    break\n",
    "            if is_gripper == False :\n",
    "                xml_segments.append(xml_ball_segment.format(pcl[i,0],pcl[i,1],pcl[i,2], *color))\n",
    "        xml_segments.append(xml_tail)\n",
    "\n",
    "        xml_content = str.join('', xml_segments)\n",
    "\n",
    "        with open('map/try_map{}.xml'.format(instance), 'w') as f:\n",
    "            f.write(xml_content)\n",
    "\n",
    "\n"
   ]
  },
  {
   "cell_type": "code",
   "execution_count": 56,
   "metadata": {},
   "outputs": [],
   "source": [
    "# Defines the image sensor\n",
    "import mitsuba as mi\n",
    "import os\n",
    "mi.set_variant('scalar_rgb')\n",
    "from mitsuba import ScalarTransform4f as T\n",
    "\n",
    "def load_sensor(r, phi, theta):\n",
    "    # Apply two rotations to convert from spherical coordinates to world 3D coordinates.\n",
    "    origin = T.rotate([0, 0, 1], phi).rotate([0, 1, 0], theta) @ mi.ScalarPoint3f([0, 0, r])\n",
    "\n",
    "    return mi.load_dict({\n",
    "        'type': 'perspective',\n",
    "        'fov': 39.3077,\n",
    "        'to_world': T.look_at(\n",
    "            origin=origin,\n",
    "            target=[0, 0, 0],\n",
    "            up=[0, 0, 1]\n",
    "        ),\n",
    "        'sampler': {\n",
    "            'type': 'independent',\n",
    "            'sample_count': 16\n",
    "        },\n",
    "        'film': {\n",
    "            'type': 'hdrfilm',\n",
    "            'width': sensor_width,\n",
    "            'height': sensor_height,\n",
    "            'rfilter': {\n",
    "                'type': 'tent',\n",
    "            },\n",
    "            'pixel_format': 'rgb',\n",
    "        },\n",
    "    })"
   ]
  },
  {
   "cell_type": "code",
   "execution_count": 57,
   "metadata": {},
   "outputs": [
    {
     "data": {
      "application/vnd.jupyter.widget-view+json": {
       "model_id": "389e8451ec1d4039abb23d89b44e189b",
       "version_major": 2,
       "version_minor": 0
      },
      "text/plain": [
       "VBox(children=(HTML(value=''), FloatProgress(value=0.0, bar_style='info', layout=Layout(width='100%'), max=1.0…"
      ]
     },
     "metadata": {},
     "output_type": "display_data"
    },
    {
     "data": {
      "application/vnd.jupyter.widget-view+json": {
       "model_id": "91eed7c56052470b9f3d8b88151a8a40",
       "version_major": 2,
       "version_minor": 0
      },
      "text/plain": [
       "VBox(children=(HTML(value=''), FloatProgress(value=0.0, bar_style='info', layout=Layout(width='100%'), max=1.0…"
      ]
     },
     "metadata": {},
     "output_type": "display_data"
    },
    {
     "data": {
      "application/vnd.jupyter.widget-view+json": {
       "model_id": "3065c047f71b446da76f458b43758292",
       "version_major": 2,
       "version_minor": 0
      },
      "text/plain": [
       "VBox(children=(HTML(value=''), FloatProgress(value=0.0, bar_style='info', layout=Layout(width='100%'), max=1.0…"
      ]
     },
     "metadata": {},
     "output_type": "display_data"
    },
    {
     "data": {
      "application/vnd.jupyter.widget-view+json": {
       "model_id": "dadf8245f32b4011b38e90b3cb28ed5d",
       "version_major": 2,
       "version_minor": 0
      },
      "text/plain": [
       "VBox(children=(HTML(value=''), FloatProgress(value=0.0, bar_style='info', layout=Layout(width='100%'), max=1.0…"
      ]
     },
     "metadata": {},
     "output_type": "display_data"
    },
    {
     "data": {
      "application/vnd.jupyter.widget-view+json": {
       "model_id": "a3da02f7b12f465ca21803eb1484cf9a",
       "version_major": 2,
       "version_minor": 0
      },
      "text/plain": [
       "VBox(children=(HTML(value=''), FloatProgress(value=0.0, bar_style='info', layout=Layout(width='100%'), max=1.0…"
      ]
     },
     "metadata": {},
     "output_type": "display_data"
    },
    {
     "data": {
      "application/vnd.jupyter.widget-view+json": {
       "model_id": "37a10122c9874a81ad530b11f3a66fe4",
       "version_major": 2,
       "version_minor": 0
      },
      "text/plain": [
       "VBox(children=(HTML(value=''), FloatProgress(value=0.0, bar_style='info', layout=Layout(width='100%'), max=1.0…"
      ]
     },
     "metadata": {},
     "output_type": "display_data"
    }
   ],
   "source": [
    "# Load created xml and render\n",
    "\n",
    "import mitsuba as mi\n",
    "import os\n",
    "mi.set_variant('scalar_rgb')\n",
    "\n",
    "# if dir not exist, create it\n",
    "if not os.path.exists(os.path.join(output_path)):\n",
    "    os.makedirs(os.path.join(output_path))\n",
    "with open(os.path.join(output_path, \"cfg.txt\"), \"w\") as f :\n",
    "    print(path, file=f)\n",
    "\n",
    "for id in cabinet_id :\n",
    "    with open(\"map/try_map{}.xml\".format(id), \"r\") as f:\n",
    "        with open(\"map/scene{}.xml\".format(id), \"w\") as w :\n",
    "            del_begin = False\n",
    "            for line in f.readlines() :\n",
    "                if '<film type=\"ldrfilm\">' in line :\n",
    "                    del_begin = True\n",
    "                if not del_begin :\n",
    "                    w.write(line)\n",
    "                if '</film>' in line :\n",
    "                    del_begin = False\n",
    "\n",
    "    scene = mi.load_file(\"map/scene{}.xml\".format(id))\n",
    "\n",
    "    phis = [sensor_sep * i for i in range(sensor_count)]\n",
    "    sensors = [load_sensor(radius, phi, theta) for phi in phis]\n",
    "    images = [mi.render(scene, spp=spp, sensor=sensor) for sensor in sensors]\n",
    "\n",
    "    for i,image in enumerate(images):   # save images to disk\n",
    "        mi.util.write_bitmap(os.path.join(output_path, \"cabinet_{}_view_{}.png\").format(id, i), image)"
   ]
  }
 ],
 "metadata": {
  "kernelspec": {
   "display_name": "Python 3.8.13 ('cp')",
   "language": "python",
   "name": "python3"
  },
  "language_info": {
   "codemirror_mode": {
    "name": "ipython",
    "version": 3
   },
   "file_extension": ".py",
   "mimetype": "text/x-python",
   "name": "python",
   "nbconvert_exporter": "python",
   "pygments_lexer": "ipython3",
   "version": "3.8.13"
  },
  "orig_nbformat": 4,
  "vscode": {
   "interpreter": {
    "hash": "ca991befef10a786372c053b12fe76a68dee0fe2d4eb17b43c5025f687be8c92"
   }
  }
 },
 "nbformat": 4,
 "nbformat_minor": 2
}
